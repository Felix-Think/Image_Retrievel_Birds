{
  "cells": [
    {
      "cell_type": "code",
      "metadata": {
        "jukit_cell_id": "4AlEEL598W"
      },
      "source": [
        "import pandas as pd\n",
        "import numpy as np\n",
        "import matplotlib.pyplot as plt"
      ],
      "outputs": [],
      "execution_count": null
    },
    {
      "cell_type": "code",
      "metadata": {
        "jukit_cell_id": "APEnSsDYs9"
      },
      "source": [
        "# Read Data\n",
        "data = pd.read_csv('DATA_BIRDS.csv')\n",
        "data.shape"
      ],
      "outputs": [
        {
          "output_type": "stream",
          "name": "stdout",
          "text": "\n"
        },
        {
          "output_type": "execute_result",
          "execution_count": 1,
          "data": {
            "text/plain": "(2555, 14)"
          },
          "metadata": {}
        }
      ],
      "execution_count": 1
    },
    {
      "cell_type": "code",
      "metadata": {
        "jukit_cell_id": "hZtaxQcuRh"
      },
      "source": [
        "data.describe()"
      ],
      "outputs": [
        {
          "output_type": "stream",
          "name": "stdout",
          "text": "\n"
        },
        {
          "output_type": "execute_result",
          "execution_count": 2,
          "data": {
            "text/plain": "            S\u1ed1 l\u01b0\u1ee3ng  ...   \u0110\u00f4 th\u1ecb h\u00f3a\ncount    2555.000000  ...  2555.000000\nmean    83047.073581  ...    49.221526\nstd     72075.180333  ...    28.873272\nmin      8951.000000  ...     0.000000\n25%     19214.500000  ...    25.000000\n50%     42072.000000  ...    49.000000\n75%    149338.500000  ...    74.000000\nmax    271937.000000  ...   100.000000\n\n[8 rows x 5 columns]"
          },
          "metadata": {}
        }
      ],
      "execution_count": 2
    }
  ],
  "metadata": {
    "anaconda-cloud": {},
    "kernelspec": {
      "display_name": "python",
      "language": "python",
      "name": "python3"
    }
  },
  "nbformat": 4,
  "nbformat_minor": 4
}