{
  "nbformat": 4,
  "nbformat_minor": 0,
  "metadata": {
    "colab": {
      "provenance": []
    },
    "kernelspec": {
      "name": "python3",
      "display_name": "Python 3"
    },
    "language_info": {
      "name": "python"
    }
  },
  "cells": [
    {
      "cell_type": "code",
      "source": [
        "from selenium import webdriver\n",
        "from selenium.webdriver.common.by import By\n",
        "import time\n",
        "import requests\n",
        "import os\n",
        "\n",
        "# Cài đặt Selenium WebDriver\n",
        "driver = webdriver.Chrome()"
      ],
      "metadata": {
        "id": "_ToWDYeFDmUz"
      },
      "execution_count": null,
      "outputs": []
    },
    {
      "cell_type": "code",
      "source": [
        "# URL của trang Flickr\n",
        "url = \"https://www.flickr.com/search/?text=b%C6%B0%E1%BB%9Bm+%C4%91%C3%AAm&view_all=1\""
      ],
      "metadata": {
        "id": "VEH5Acuc2kwK"
      },
      "execution_count": null,
      "outputs": []
    },
    {
      "cell_type": "code",
      "source": [
        "# Tạo thư mục lưu ảnh\n",
        "output_dir = \"flickr_images\"\n",
        "os.makedirs(output_dir, exist_ok=True)"
      ],
      "metadata": {
        "id": "fggWzK8X1x9H"
      },
      "execution_count": null,
      "outputs": []
    },
    {
      "cell_type": "code",
      "source": [
        "# Gửi yêu cầu tới trang Flickr\n",
        "response = requests.get(url)\n",
        "if response.status_code != 200:\n",
        "    print(\"Không thể truy cập trang web!\")\n",
        "else:\n",
        "    print(\"Truy cập thành công!\")"
      ],
      "metadata": {
        "colab": {
          "base_uri": "https://localhost:8080/"
        },
        "id": "8Q7NXnnW1x6f",
        "outputId": "60540d3b-da91-4939-a1a0-b1a1453fab75"
      },
      "execution_count": null,
      "outputs": [
        {
          "output_type": "stream",
          "name": "stdout",
          "text": [
            "Truy cập thành công!\n"
          ]
        }
      ]
    },
    {
      "cell_type": "code",
      "source": [
        "# Phân tích HTML của trang web\n",
        "soup = BeautifulSoup(response.content, \"html.parser\")"
      ],
      "metadata": {
        "id": "BpO1RTpW1x3o"
      },
      "execution_count": null,
      "outputs": []
    },
    {
      "cell_type": "code",
      "source": [
        "# Cuộn trang để tải thêm ảnh\n",
        "for _ in range(10):  # Cuộn 10 lần (có thể thay đổi)\n",
        "    driver.execute_script(\"window.scrollTo(0, document.body.scrollHeight);\")\n",
        "    time.sleep(2)  # Chờ ảnh tải"
      ],
      "metadata": {
        "id": "m2BTQgt0GESQ"
      },
      "execution_count": null,
      "outputs": []
    },
    {
      "cell_type": "code",
      "source": [
        "# Tìm tất cả thẻ ảnh\n",
        "image_tags = soup.find_all(\"img\")\n",
        "print(f\"Tìm thấy {len(image_tags)} ảnh trên trang.\")"
      ],
      "metadata": {
        "colab": {
          "base_uri": "https://localhost:8080/"
        },
        "id": "BO-YTAFJ1x0h",
        "outputId": "c2b03a3b-5881-42cc-a2d5-268ced3c00f2"
      },
      "execution_count": null,
      "outputs": [
        {
          "output_type": "stream",
          "name": "stdout",
          "text": [
            "Tìm thấy 25 ảnh trên trang.\n"
          ]
        }
      ]
    },
    {
      "cell_type": "code",
      "source": [
        "# Tải ảnh về\n",
        "download_count = 0\n",
        "for idx, img_tag in enumerate(image_tags):\n",
        "    try:\n",
        "        # Lấy URL ảnh từ thuộc tính \"src\"\n",
        "        img_url = img_tag.get(\"src\")\n",
        "        if not img_url:\n",
        "            continue\n",
        "\n",
        "        # Nếu URL thiếu scheme, thêm \"https:\" vào đầu\n",
        "        if img_url.startswith(\"//\"):\n",
        "            img_url = \"https:\" + img_url\n",
        "\n",
        "        # Tải ảnh\n",
        "        img_data = requests.get(img_url).content\n",
        "        img_name = f\"image_{idx + 1}.jpg\"\n",
        "        with open(os.path.join(output_dir, img_name), \"wb\") as f:\n",
        "            f.write(img_data)\n",
        "\n",
        "        download_count += 1\n",
        "        print(f\"Đã tải {img_name}\")\n",
        "    except Exception as e:\n",
        "        print(f\"Lỗi khi tải ảnh {idx + 1}: {e}\")\n",
        "\n",
        "print(f\"Tải về thành công {download_count} ảnh.\")\n",
        "driver.quit()\n"
      ],
      "metadata": {
        "id": "yE-q6Ycs1xqC"
      },
      "execution_count": null,
      "outputs": []
    }
  ]
}
